{
  "nbformat": 4,
  "nbformat_minor": 0,
  "metadata": {
    "colab": {
      "provenance": []
    },
    "kernelspec": {
      "name": "python3",
      "display_name": "Python 3"
    },
    "language_info": {
      "name": "python"
    }
  },
  "cells": [
    {
      "cell_type": "markdown",
      "source": [
        "Data Toolkit"
      ],
      "metadata": {
        "id": "EbyaGV0bQBiR"
      }
    },
    {
      "cell_type": "markdown",
      "source": [
        "Q1- What is NumPy, and why is it widely used in Python?\n",
        "\n",
        "NumPy is a Python library for efficient numerical and scientific computing. It provides a powerful N-dimensional array object (ndarray), supports vectorized operations, and includes a wide range of mathematical functions. Known for its speed and simplicity, NumPy is widely used in data science, machine learning, and scientific computing, serving as a foundation for libraries like pandas, TensorFlow, and Matplotlib. It allows developers to perform computations on large datasets efficiently, thanks to its optimized C-based implementation."
      ],
      "metadata": {
        "id": "GuMr0BESQEg2"
      }
    },
    {
      "cell_type": "markdown",
      "source": [
        "Q2- How does broadcasting work in NumPy?\n",
        "\n",
        "Broadcasting in NumPy allows arithmetic operations to be performed on arrays of different shapes without explicitly reshaping them. It works by \"stretching\" the smaller array along the larger array's dimensions to make their shapes compatible. This avoids writing loops and makes operations efficient."
      ],
      "metadata": {
        "id": "MlMJureYQfTi"
      }
    },
    {
      "cell_type": "markdown",
      "source": [
        "Q3- What is a Pandas DataFrame?\n",
        "\n",
        "A Pandas DataFrame is a two-dimensional, tabular data structure in Python with labeled rows and columns, similar to an Excel spreadsheet or SQL table. It is part of the Pandas library and is widely used for data manipulation and analysis.\n",
        "\n",
        "Rows and Columns: Organized with row and column labels for easy indexing.\n",
        "\n",
        "Heterogeneous Data: Columns can hold different data types (e.g., integers, floats, strings).\n",
        "\n",
        "Powerful Operations: Supports filtering, aggregation, merging, reshaping, and more.\n",
        "\n",
        "It is a core structure in data science for exploring and transforming datasets."
      ],
      "metadata": {
        "id": "zWno6CF1Q7Ei"
      }
    },
    {
      "cell_type": "markdown",
      "source": [
        "Q4- A Explain the use of the groupby() method in Pandas.\n",
        "\n",
        "The groupby() method in Pandas is used to group data based on one or more columns and perform operations on each group. It is commonly used for aggregation, transformation, or applying custom functions.\n",
        "\n",
        "Key Steps:\n",
        "1)Split: Divide the data into groups based on some criteria (e.g., column values).\n",
        "\n",
        "2)Apply: Perform an operation (e.g., sum, mean, count) on each group.\n",
        "\n",
        "3)Combine: Merge the results back into a single structure.\n",
        "\n",
        "It’s useful for analyzing and summarizing data by groups."
      ],
      "metadata": {
        "id": "2MwgcVL1RVTa"
      }
    },
    {
      "cell_type": "markdown",
      "source": [
        "Q5- Why is Seaborn preferred for statistical visualizations?\n",
        "\n",
        "Seaborn is preferred for statistical visualizations because it provides a high-level interface for creating attractive and informative plots, especially when working with complex datasets. Built on top of Matplotlib, it simplifies visualization creation and enhances them with better aesthetics and additional statistical capabilities."
      ],
      "metadata": {
        "id": "8JSV5E4HRvYV"
      }
    },
    {
      "cell_type": "markdown",
      "source": [
        "Q6- What are the differences between NumPy arrays and Python lists?\n",
        "\n",
        "NumPy Arrays:-\n",
        "Faster due to optimized C-based implementation.\n",
        "Homogeneous (all elements must be of the same type).\n",
        "Uses less memory because of fixed data types.\n",
        "\n",
        "Python Lists:-\n",
        "Slower as they are interpreted in Python.\n",
        "Heterogeneous (can contain mixed data types).\n",
        "More memory usage due to dynamic typing."
      ],
      "metadata": {
        "id": "bVjHm4fo7omE"
      }
    },
    {
      "cell_type": "markdown",
      "source": [
        "Q7- What is a heatmap, and when should it be used?\n",
        "\n",
        "A heatmap is a data visualization technique that represents values in a matrix or 2D grid format using color variations. The color intensity or gradient indicates the magnitude of the values, making it easy to identify patterns, correlations, or anomalies.\n",
        "\n",
        "Heatmaps are commonly used in fields like data science, biology (e.g., gene expression), and sports analytics for compact and intuitive data visualization."
      ],
      "metadata": {
        "id": "xTRonUkB8OpU"
      }
    },
    {
      "cell_type": "markdown",
      "source": [
        "Q8- What does the term “vectorized operation” mean in NumPy?\n",
        "\n",
        "A vectorized operation in NumPy refers to performing element-wise computations directly on arrays without the need for explicit loops in Python. These operations leverage optimized, low-level C implementations, making them much faster and more efficient than iterating through elements with a for loop."
      ],
      "metadata": {
        "id": "Qzy31ePt8wlN"
      }
    },
    {
      "cell_type": "markdown",
      "source": [
        "Q9- How does Matplotlib differ from Plotly?\n",
        "\n",
        "Matplotlib:-\n",
        "Primarily static visualizations. Interactivity is limited but can be added with tools like mplcursors.\n",
        "\n",
        "Steeper learning curve for complex plots. Requires more coding for customization.\n",
        "\n",
        "Offers fine-grained control over plot styling and features but may involve more code for complex changes.\n",
        "\n",
        "Includes many basic 2D and 3D plots (line, bar, scatter, etc.), but less specialized for advanced types.\n",
        "\n",
        "Plotly:-\n",
        "Highly interactive by default (e.g., zooming, panning, tooltips).\n",
        "\n",
        "Easier to create complex interactive plots with less code.\n",
        "\n",
        "Built-in features for high-level customization with fewer lines of code.\n",
        "\n",
        "Supports a wide variety of plot types including heatmaps, geospatial plots, and 3D plots with richer interactions."
      ],
      "metadata": {
        "id": "-onfz_zM9Awe"
      }
    },
    {
      "cell_type": "markdown",
      "source": [
        "Q10- What is the significance of hierarchical indexing in Pandas?\n",
        "\n",
        "Hierarchical indexing in Pandas allows you to work with multi-level (or multi-dimensional) indexing, enabling more complex data structures and operations. It is particularly useful when dealing with higher-dimensional data in 2D tables (DataFrames) or more, allowing you to represent and access data in a structured, organized way with multiple index levels."
      ],
      "metadata": {
        "id": "NsjMN8Tw9vu4"
      }
    },
    {
      "cell_type": "markdown",
      "source": [
        "Q11- What is the role of Seaborn’s pairplot() function?\n",
        "\n",
        "The pairplot() function in Seaborn is used to visualize the pairwise relationships between multiple numerical variables in a dataset. It creates a grid of subplots where each plot represents a comparison of two variables, showing how they relate to each other. This is especially useful for quickly exploring the correlations, distributions, and relationships in high-dimensional data."
      ],
      "metadata": {
        "id": "nNWYAoLP9_ji"
      }
    },
    {
      "cell_type": "markdown",
      "source": [
        "Q12- What is the purpose of the describe() function in Pandas?\n",
        "\n",
        "The describe() function in Pandas is used to generate a summary of statistics for numerical columns in a DataFrame or Series. It provides a quick overview of the central tendency, spread, and shape of the distribution, which can be helpful for initial exploratory data analysis (EDA)."
      ],
      "metadata": {
        "id": "oeOk8SsZ-N7E"
      }
    },
    {
      "cell_type": "markdown",
      "source": [
        "Q13-  Why is handling missing data important in Pandas?\n",
        "\n",
        "Handling missing data is crucial in Pandas (and in data analysis in general) because it can significantly affect the accuracy and reliability of your results. Missing data is common in real-world datasets, and if it's not dealt with properly, it can lead to incorrect analyses, biased models, and misinterpretations."
      ],
      "metadata": {
        "id": "uVUKwhMM-gS3"
      }
    },
    {
      "cell_type": "markdown",
      "source": [
        "Q14- What are the benefits of using Plotly for data visualization?\n",
        "\n",
        "Plotly offers several key benefits for data visualization:\n",
        "\n",
        "1)Interactive Visualizations: Automatically makes charts interactive with zooming, panning, and tooltips.\n",
        "\n",
        "2)Easy to Use: Simplified API for creating complex charts with minimal code.\n",
        "\n",
        "3)Wide Range of Plots: Supports 2D, 3D, geospatial, and specialized charts (e.g., candlestick).\n",
        "\n",
        "4)Customizable: Highly customizable visualizations for fine-tuned design.\n",
        "\n",
        "5)Web Integration: Outputs HTML, making it easy to embed in web pages and dashboards.\n",
        "\n",
        "6)Cross-Language: Works in Python, R, and JavaScript, enhancing cross-platform use.\n",
        "\n",
        "7)Professional Quality: Plots are visually appealing by default, saving time on styling.\n",
        "\n",
        "Plotly is ideal for interactive dashboards, data-driven web apps, and scientific or business data visualization."
      ],
      "metadata": {
        "id": "XAGFz2vW-sf8"
      }
    },
    {
      "cell_type": "markdown",
      "source": [
        "Q15- A How does NumPy handle multidimensional arrays?\n",
        "\n",
        "NumPy handles multidimensional arrays through the ndarray class, which supports arrays with any number of dimensions (e.g., 2D matrices, 3D tensors). It provides efficient indexing, slicing, and broadcasting for element-wise operations across arrays of different shapes. With .shape and advanced operations like matrix multiplication, NumPy makes it easy to manipulate large datasets and perform mathematical tasks on multidimensional arrays."
      ],
      "metadata": {
        "id": "MfaAiVJu_MLD"
      }
    },
    {
      "cell_type": "markdown",
      "source": [
        "Q16- What is the role of Bokeh in data visualization?\n",
        "\n",
        "Bokeh is a Python library used for creating interactive, web-based visualizations. It supports dynamic plots with features like zooming, panning, and tooltips. Bokeh is ideal for handling large datasets, real-time data visualization, and embedding visualizations into web applications or dashboards. It is highly customizable and can be used to build interactive data apps."
      ],
      "metadata": {
        "id": "PkhBmla7_d63"
      }
    },
    {
      "cell_type": "markdown",
      "source": [
        "Q17- Explain the difference between apply() and map() in Pandas?\n",
        "\n",
        "apply():\n",
        "\n",
        "Can be used on DataFrames and Series.\n",
        "Applies a function along an axis (rows or columns) for DataFrames or to each element in a Series.\n",
        "More flexible, as it allows applying complex functions, including operations on multiple columns (for DataFrames).\n",
        "\n",
        "map():\n",
        "\n",
        "Used only on Series.\n",
        "Applies a function element-wise on the Series and is usually faster for simple operations.\n",
        "Can be used with dictionaries or Series to replace values."
      ],
      "metadata": {
        "id": "Oua7sY_a_xTL"
      }
    },
    {
      "cell_type": "markdown",
      "source": [
        "Q18- A What are some advanced features of NumPy?\n",
        "\n",
        "Some advanced features of NumPy include:\n",
        "\n",
        "1)Broadcasting: Allows operations on arrays of different shapes by automatically expanding smaller arrays to match the larger ones.\n",
        "\n",
        "2)Vectorization: Enables element-wise operations on arrays without using explicit loops, speeding up computations.\n",
        "\n",
        "3)Advanced Indexing: Supports fancy, boolean, and multi-dimensional indexing for more flexible data selection and modification.\n",
        "\n",
        "4)Linear Algebra: Provides efficient functions for matrix operations, dot products, eigenvalues, and solving linear systems.\n",
        "\n",
        "These features make NumPy highly efficient for scientific computing and large-scale data manipulation."
      ],
      "metadata": {
        "id": "d_NrOeI6AHje"
      }
    },
    {
      "cell_type": "markdown",
      "source": [
        "Q19- How does Pandas simplify time series analysis?\n",
        "\n",
        "Pandas simplifies time series analysis with:\n",
        "\n",
        "1)DateTime Indexing: Easy indexing and slicing of time-based data using DatetimeIndex.\n",
        "\n",
        "2)Resampling: Convert data to different time frequencies (e.g., daily to monthly) using .resample().\n",
        "\n",
        "3)Rolling Windows: Compute rolling statistics (like moving averages) with .rolling().\n",
        "\n",
        "4)Shifting: Shift or lag data for time-based comparisons using .shift().\n",
        "\n",
        "These features enable efficient manipulation and analysis of time-dependent data."
      ],
      "metadata": {
        "id": "jnfXDdAeAjv8"
      }
    },
    {
      "cell_type": "markdown",
      "source": [
        "Q20- What is the role of a pivot table in Pandas?\n",
        "\n",
        "A pivot table in Pandas is used to summarize and aggregate data by reshaping it. It allows you to group data based on specific columns, apply aggregation functions (e.g., sum, mean, count), and present the results in a table-like format. Pivot tables are useful for analyzing relationships between multiple variables and organizing data for better insights.\n",
        "\n",
        "Key Uses:\n",
        "1)Summarize Data: Aggregate values based on one or more categorical variables.\n",
        "\n",
        "2)Multi-level Indexing: Handle data with multiple grouping levels.\n",
        "\n",
        "3)Data Reshaping: Pivot data to transform rows into columns for more meaningful analysis."
      ],
      "metadata": {
        "id": "-HDPxDo_A8uV"
      }
    },
    {
      "cell_type": "markdown",
      "source": [
        "Q21- Why is NumPy’s array slicing faster than Python’s list slicing?\n",
        "\n",
        "NumPy's array slicing is faster than Python's list slicing because:\n",
        "\n",
        "1)Contiguous Memory Allocation: NumPy arrays are stored in contiguous memory blocks, allowing for efficient, low-level memory access, whereas Python lists store pointers to objects, requiring more memory lookups.\n",
        "\n",
        "2)Vectorization: NumPy operations are written in C and optimized for performance, which speeds up slicing and other operations compared to Python's higher-level list manipulation.\n",
        "\n",
        "3)No Copies: NumPy slicing usually returns a view of the original array, not a copy, making it more memory and computationally efficient. In contrast, list slicing often creates a new list object."
      ],
      "metadata": {
        "id": "r6ttxYvOBM4o"
      }
    },
    {
      "cell_type": "markdown",
      "source": [
        "Q22- What are some common use cases for Seaborn?\n",
        "\n",
        "Common use cases for Seaborn include:\n",
        "\n",
        "1)Exploratory Data Analysis (EDA): Quickly visualize data distributions, relationships between variables, and trends to understand underlying patterns (e.g., histograms, scatter plots).\n",
        "\n",
        "2)Correlation Analysis: Visualize correlations between numerical variables using heatmaps and pair plots.\n",
        "\n",
        "3)Categorical Data Visualization: Visualize distributions and relationships in categorical data with box plots, violin plots, bar plots, etc.\n",
        "\n",
        "4)Statistical Modeling: Create complex statistical visualizations (e.g., regression plots, kde plots) with built-in tools for fitting lines and confidence intervals.\n",
        "\n",
        "5)Multivariate Visualization: Display and analyze data with multiple variables, like in pair plots or facet grids.\n",
        "\n",
        "Seaborn is great for visualizing relationships and distributions in data, especially for quick insights and communication of findings."
      ],
      "metadata": {
        "id": "eMQGxCp9BhY0"
      }
    },
    {
      "cell_type": "markdown",
      "source": [
        "Practical"
      ],
      "metadata": {
        "id": "xGpPzqI6B7g9"
      }
    },
    {
      "cell_type": "markdown",
      "source": [
        "Q1- How do you create a 2D NumPy array and calculate the sum of each row?"
      ],
      "metadata": {
        "id": "bX_L7HtwB-3_"
      }
    },
    {
      "cell_type": "code",
      "source": [
        "import numpy as np\n",
        "\n",
        "array_2d = np.array([[1,2,3],[4,5,6],[7,8,9]])\n",
        "\n",
        "row_sums = array_2d.sum(axis=1)\n",
        "\n",
        "print(row_sums)"
      ],
      "metadata": {
        "colab": {
          "base_uri": "https://localhost:8080/"
        },
        "id": "gCQkcMrPCDmB",
        "outputId": "5002fc89-67c0-4f36-a46e-c6058fc852ce"
      },
      "execution_count": 1,
      "outputs": [
        {
          "output_type": "stream",
          "name": "stdout",
          "text": [
            "[ 6 15 24]\n"
          ]
        }
      ]
    },
    {
      "cell_type": "markdown",
      "source": [
        "Q2- Write a Pandas script to find the mean of a specific column in a DataFrame?"
      ],
      "metadata": {
        "id": "7N9qlVlTCg8x"
      }
    },
    {
      "cell_type": "code",
      "source": [
        "import pandas as pd\n",
        "\n",
        "data = {'column_name':[10,20,30,40,50],\n",
        "        'other_column':[1,2,3,4,5]}\n",
        "\n",
        "df = pd.DataFrame(data)\n",
        "\n",
        "mean_value = df['column_name'].mean()\n",
        "\n",
        "print(f\"Mean of 'column_name':{mean_value}\")"
      ],
      "metadata": {
        "colab": {
          "base_uri": "https://localhost:8080/"
        },
        "id": "c9TwiiyJClvQ",
        "outputId": "7b1e20ea-baa1-4ec7-d0ab-889cd23678e0"
      },
      "execution_count": 2,
      "outputs": [
        {
          "output_type": "stream",
          "name": "stdout",
          "text": [
            "Mean of 'column_name':30.0\n"
          ]
        }
      ]
    },
    {
      "cell_type": "markdown",
      "source": [
        "Q3- A Create a scatter plot using Matplotlib."
      ],
      "metadata": {
        "id": "WakGnV_-DRgU"
      }
    },
    {
      "cell_type": "code",
      "source": [
        "import matplotlib.pyplot as plt\n",
        "\n",
        "x = [1,2,3,4,5]\n",
        "y = [2,4,6,8,10]\n",
        "\n",
        "plt.scatter(x,y)\n",
        "\n",
        "plt.title('Scatter Plot Example')\n",
        "plt.xlabel('X-axis Label')\n",
        "plt.ylabel('Y-axis Label')\n",
        "\n",
        "plt.show()"
      ],
      "metadata": {
        "colab": {
          "base_uri": "https://localhost:8080/",
          "height": 472
        },
        "id": "Nz4dv-kXDWrr",
        "outputId": "a1699eb5-a00c-4cd4-9aae-5c568d19e775"
      },
      "execution_count": 3,
      "outputs": [
        {
          "output_type": "display_data",
          "data": {
            "text/plain": [
              "<Figure size 640x480 with 1 Axes>"
            ],
            "image/png": "[encoded data removed]"
          },
          "metadata": {}
        }
      ]
    },
    {
      "cell_type": "markdown",
      "source": [
        "Q4- How do you calculate the correlation matrix using Seaborn and visualize it with a heatmap?"
      ],
      "metadata": {
        "id": "2BZs-Ch6D7KD"
      }
    },
    {
      "cell_type": "code",
      "source": [
        "import seaborn as sns\n",
        "import pandas as pd\n",
        "import matplotlib.pyplot as plt\n",
        "\n",
        "data = {\n",
        "    'A': [1, 2, 3, 4, 5],\n",
        "    'B': [5, 4, 3, 2, 1],\n",
        "    'C': [2, 3, 4, 5, 6]\n",
        "}\n",
        "df = pd.DataFrame(data)\n",
        "\n",
        "corr_matrix = df.corr()\n",
        "\n",
        "sns.heatmap(corr_matrix, annot=True, cmap='coolwarm', fmt='.2f')\n",
        "\n",
        "plt.show()\n"
      ],
      "metadata": {
        "colab": {
          "base_uri": "https://localhost:8080/",
          "height": 435
        },
        "id": "ORhri920ECek",
        "outputId": "734297b2-7016-4dad-c8b7-8725b03b4888"
      },
      "execution_count": 4,
      "outputs": [
        {
          "output_type": "display_data",
          "data": {
            "text/plain": [
              "<Figure size 640x480 with 2 Axes>"
            ],
            "image/png": "[encoded data removed]"
          },
          "metadata": {}
        }
      ]
    },
    {
      "cell_type": "markdown",
      "source": [
        "Q5- A Generate a bar plot using Plotly?"
      ],
      "metadata": {
        "id": "Q1hWPJx1EVAC"
      }
    },
    {
      "cell_type": "code",
      "source": [
        "import plotly.express as px\n",
        "\n",
        "data = {'Category': ['A', 'B', 'C', 'D', 'E'],\n",
        "        'Value': [10, 20, 30, 40, 50]}\n",
        "\n",
        "import pandas as pd\n",
        "df = pd.DataFrame(data)\n",
        "\n",
        "fig = px.bar(df, x='Category', y='Value', title='Bar Plot Example')\n",
        "\n",
        "fig.show()\n"
      ],
      "metadata": {
        "colab": {
          "base_uri": "https://localhost:8080/",
          "height": 542
        },
        "id": "GvuTP-XbEXBK",
        "outputId": "069f60b7-47ff-4729-f92a-7424dde6dc39"
      },
      "execution_count": 5,
      "outputs": [
        {
          "output_type": "display_data",
          "data": {
            "text/html": [
              "<html>\n",
              "<head><meta charset=\"utf-8\" /></head>\n",
              "<body>\n",
              "    <div>            <script src=\"https://cdnjs.cloudflare.com/ajax/libs/mathjax/2.7.5/MathJax.js?config=TeX-AMS-MML_SVG\"></script><script type=\"text/javascript\">if (window.MathJax && window.MathJax.Hub && window.MathJax.Hub.Config) {window.MathJax.Hub.Config({SVG: {font: \"STIX-Web\"}});}</script>                <script type=\"text/javascript\">window.PlotlyConfig = {MathJaxConfig: 'local'};</script>\n",
              "        <script charset=\"utf-8\" src=\"https://cdn.plot.ly/plotly-2.35.2.min.js\"></script>                <div id=\"42414bd5-e1da-4f7e-b56c-79cddd73f251\" class=\"plotly-graph-div\" style=\"height:525px; width:100%;\"></div>            <script type=\"text/javascript\">                                    window.PLOTLYENV=window.PLOTLYENV || {};                                    if (document.getElementById(\"42414bd5-e1da-4f7e-b56c-79cddd73f251\")) {                    Plotly.newPlot(                        \"42414bd5-e1da-4f7e-b56c-79cddd73f251\",                        [{\"alignmentgroup\":\"True\",\"hovertemplate\":\"Category=%{x}\\u003cbr\\u003eValue=%{y}\\u003cextra\\u003e\\u003c\\u002fextra\\u003e\",\"legendgroup\":\"\",\"marker\":{\"color\":\"#636efa\",\"pattern\":{\"shape\":\"\"}},\"name\":\"\",\"offsetgroup\":\"\",\"orientation\":\"v\",\"showlegend\":false,\"textposition\":\"auto\",\"x\":[\"A\",\"B\",\"C\",\"D\",\"E\"],\"xaxis\":\"x\",\"y\":[10,20,30,40,50],\"yaxis\":\"y\",\"type\":\"bar\"}],                        {\"template\":{\"data\":{\"histogram2dcontour\":[{\"type\":\"histogram2dcontour\",\"colorbar\":{\"outlinewidth\":0,\"ticks\":\"\"},\"colorscale\":[[0.0,\"#0d0887\"],[0.1111111111111111,\"#46039f\"],[0.2222222222222222,\"#7201a8\"],[0.3333333333333333,\"#9c179e\"],[0.4444444444444444,\"#bd3786\"],[0.5555555555555556,\"#d8576b\"],[0.6666666666666666,\"#ed7953\"],[0.7777777777777778,\"#fb9f3a\"],[0.8888888888888888,\"#fdca26\"],[1.0,\"#f0f921\"]]}],\"choropleth\":[{\"type\":\"choropleth\",\"colorbar\":{\"outlinewidth\":0,\"ticks\":\"\"}}],\"histogram2d\":[{\"type\":\"histogram2d\",\"colorbar\":{\"outlinewidth\":0,\"ticks\":\"\"},\"colorscale\":[[0.0,\"#0d0887\"],[0.1111111111111111,\"#46039f\"],[0.2222222222222222,\"#7201a8\"],[0.3333333333333333,\"#9c179e\"],[0.4444444444444444,\"#bd3786\"],[0.5555555555555556,\"#d8576b\"],[0.6666666666666666,\"#ed7953\"],[0.7777777777777778,\"#fb9f3a\"],[0.8888888888888888,\"#fdca26\"],[1.0,\"#f0f921\"]]}],\"heatmap\":[{\"type\":\"heatmap\",\"colorbar\":{\"outlinewidth\":0,\"ticks\":\"\"},\"colorscale\":[[0.0,\"#0d0887\"],[0.1111111111111111,\"#46039f\"],[0.2222222222222222,\"#7201a8\"],[0.3333333333333333,\"#9c179e\"],[0.4444444444444444,\"#bd3786\"],[0.5555555555555556,\"#d8576b\"],[0.6666666666666666,\"#ed7953\"],[0.7777777777777778,\"#fb9f3a\"],[0.8888888888888888,\"#fdca26\"],[1.0,\"#f0f921\"]]}],\"heatmapgl\":[{\"type\":\"heatmapgl\",\"colorbar\":{\"outlinewidth\":0,\"ticks\":\"\"},\"colorscale\":[[0.0,\"#0d0887\"],[0.1111111111111111,\"#46039f\"],[0.2222222222222222,\"#7201a8\"],[0.3333333333333333,\"#9c179e\"],[0.4444444444444444,\"#bd3786\"],[0.5555555555555556,\"#d8576b\"],[0.6666666666666666,\"#ed7953\"],[0.7777777777777778,\"#fb9f3a\"],[0.8888888888888888,\"#fdca26\"],[1.0,\"#f0f921\"]]}],\"contourcarpet\":[{\"type\":\"contourcarpet\",\"colorbar\":{\"outlinewidth\":0,\"ticks\":\"\"}}],\"contour\":[{\"type\":\"contour\",\"colorbar\":{\"outlinewidth\":0,\"ticks\":\"\"},\"colorscale\":[[0.0,\"#0d0887\"],[0.1111111111111111,\"#46039f\"],[0.2222222222222222,\"#7201a8\"],[0.3333333333333333,\"#9c179e\"],[0.4444444444444444,\"#bd3786\"],[0.5555555555555556,\"#d8576b\"],[0.6666666666666666,\"#ed7953\"],[0.7777777777777778,\"#fb9f3a\"],[0.8888888888888888,\"#fdca26\"],[1.0,\"#f0f921\"]]}],\"surface\":[{\"type\":\"surface\",\"colorbar\":{\"outlinewidth\":0,\"ticks\":\"\"},\"colorscale\":[[0.0,\"#0d0887\"],[0.1111111111111111,\"#46039f\"],[0.2222222222222222,\"#7201a8\"],[0.3333333333333333,\"#9c179e\"],[0.4444444444444444,\"#bd3786\"],[0.5555555555555556,\"#d8576b\"],[0.6666666666666666,\"#ed7953\"],[0.7777777777777778,\"#fb9f3a\"],[0.8888888888888888,\"#fdca26\"],[1.0,\"#f0f921\"]]}],\"mesh3d\":[{\"type\":\"mesh3d\",\"colorbar\":{\"outlinewidth\":0,\"ticks\":\"\"}}],\"scatter\":[{\"fillpattern\":{\"fillmode\":\"overlay\",\"size\":10,\"solidity\":0.2},\"type\":\"scatter\"}],\"parcoords\":[{\"type\":\"parcoords\",\"line\":{\"colorbar\":{\"outlinewidth\":0,\"ticks\":\"\"}}}],\"scatterpolargl\":[{\"type\":\"scatterpolargl\",\"marker\":{\"colorbar\":{\"outlinewidth\":0,\"ticks\":\"\"}}}],\"bar\":[{\"error_x\":{\"color\":\"#2a3f5f\"},\"error_y\":{\"color\":\"#2a3f5f\"},\"marker\":{\"line\":{\"color\":\"#E5ECF6\",\"width\":0.5},\"pattern\":{\"fillmode\":\"overlay\",\"size\":10,\"solidity\":0.2}},\"type\":\"bar\"}],\"scattergeo\":[{\"type\":\"scattergeo\",\"marker\":{\"colorbar\":{\"outlinewidth\":0,\"ticks\":\"\"}}}],\"scatterpolar\":[{\"type\":\"scatterpolar\",\"marker\":{\"colorbar\":{\"outlinewidth\":0,\"ticks\":\"\"}}}],\"histogram\":[{\"marker\":{\"pattern\":{\"fillmode\":\"overlay\",\"size\":10,\"solidity\":0.2}},\"type\":\"histogram\"}],\"scattergl\":[{\"type\":\"scattergl\",\"marker\":{\"colorbar\":{\"outlinewidth\":0,\"ticks\":\"\"}}}],\"scatter3d\":[{\"type\":\"scatter3d\",\"line\":{\"colorbar\":{\"outlinewidth\":0,\"ticks\":\"\"}},\"marker\":{\"colorbar\":{\"outlinewidth\":0,\"ticks\":\"\"}}}],\"scattermapbox\":[{\"type\":\"scattermapbox\",\"marker\":{\"colorbar\":{\"outlinewidth\":0,\"ticks\":\"\"}}}],\"scatterternary\":[{\"type\":\"scatterternary\",\"marker\":{\"colorbar\":{\"outlinewidth\":0,\"ticks\":\"\"}}}],\"scattercarpet\":[{\"type\":\"scattercarpet\",\"marker\":{\"colorbar\":{\"outlinewidth\":0,\"ticks\":\"\"}}}],\"carpet\":[{\"aaxis\":{\"endlinecolor\":\"#2a3f5f\",\"gridcolor\":\"white\",\"linecolor\":\"white\",\"minorgridcolor\":\"white\",\"startlinecolor\":\"#2a3f5f\"},\"baxis\":{\"endlinecolor\":\"#2a3f5f\",\"gridcolor\":\"white\",\"linecolor\":\"white\",\"minorgridcolor\":\"white\",\"startlinecolor\":\"#2a3f5f\"},\"type\":\"carpet\"}],\"table\":[{\"cells\":{\"fill\":{\"color\":\"#EBF0F8\"},\"line\":{\"color\":\"white\"}},\"header\":{\"fill\":{\"color\":\"#C8D4E3\"},\"line\":{\"color\":\"white\"}},\"type\":\"table\"}],\"barpolar\":[{\"marker\":{\"line\":{\"color\":\"#E5ECF6\",\"width\":0.5},\"pattern\":{\"fillmode\":\"overlay\",\"size\":10,\"solidity\":0.2}},\"type\":\"barpolar\"}],\"pie\":[{\"automargin\":true,\"type\":\"pie\"}]},\"layout\":{\"autotypenumbers\":\"strict\",\"colorway\":[\"#636efa\",\"#EF553B\",\"#00cc96\",\"#ab63fa\",\"#FFA15A\",\"#19d3f3\",\"#FF6692\",\"#B6E880\",\"#FF97FF\",\"#FECB52\"],\"font\":{\"color\":\"#2a3f5f\"},\"hovermode\":\"closest\",\"hoverlabel\":{\"align\":\"left\"},\"paper_bgcolor\":\"white\",\"plot_bgcolor\":\"#E5ECF6\",\"polar\":{\"bgcolor\":\"#E5ECF6\",\"angularaxis\":{\"gridcolor\":\"white\",\"linecolor\":\"white\",\"ticks\":\"\"},\"radialaxis\":{\"gridcolor\":\"white\",\"linecolor\":\"white\",\"ticks\":\"\"}},\"ternary\":{\"bgcolor\":\"#E5ECF6\",\"aaxis\":{\"gridcolor\":\"white\",\"linecolor\":\"white\",\"ticks\":\"\"},\"baxis\":{\"gridcolor\":\"white\",\"linecolor\":\"white\",\"ticks\":\"\"},\"caxis\":{\"gridcolor\":\"white\",\"linecolor\":\"white\",\"ticks\":\"\"}},\"coloraxis\":{\"colorbar\":{\"outlinewidth\":0,\"ticks\":\"\"}},\"colorscale\":{\"sequential\":[[0.0,\"#0d0887\"],[0.1111111111111111,\"#46039f\"],[0.2222222222222222,\"#7201a8\"],[0.3333333333333333,\"#9c179e\"],[0.4444444444444444,\"#bd3786\"],[0.5555555555555556,\"#d8576b\"],[0.6666666666666666,\"#ed7953\"],[0.7777777777777778,\"#fb9f3a\"],[0.8888888888888888,\"#fdca26\"],[1.0,\"#f0f921\"]],\"sequentialminus\":[[0.0,\"#0d0887\"],[0.1111111111111111,\"#46039f\"],[0.2222222222222222,\"#7201a8\"],[0.3333333333333333,\"#9c179e\"],[0.4444444444444444,\"#bd3786\"],[0.5555555555555556,\"#d8576b\"],[0.6666666666666666,\"#ed7953\"],[0.7777777777777778,\"#fb9f3a\"],[0.8888888888888888,\"#fdca26\"],[1.0,\"#f0f921\"]],\"diverging\":[[0,\"#8e0152\"],[0.1,\"#c51b7d\"],[0.2,\"#de77ae\"],[0.3,\"#f1b6da\"],[0.4,\"#fde0ef\"],[0.5,\"#f7f7f7\"],[0.6,\"#e6f5d0\"],[0.7,\"#b8e186\"],[0.8,\"#7fbc41\"],[0.9,\"#4d9221\"],[1,\"#276419\"]]},\"xaxis\":{\"gridcolor\":\"white\",\"linecolor\":\"white\",\"ticks\":\"\",\"title\":{\"standoff\":15},\"zerolinecolor\":\"white\",\"automargin\":true,\"zerolinewidth\":2},\"yaxis\":{\"gridcolor\":\"white\",\"linecolor\":\"white\",\"ticks\":\"\",\"title\":{\"standoff\":15},\"zerolinecolor\":\"white\",\"automargin\":true,\"zerolinewidth\":2},\"scene\":{\"xaxis\":{\"backgroundcolor\":\"#E5ECF6\",\"gridcolor\":\"white\",\"linecolor\":\"white\",\"showbackground\":true,\"ticks\":\"\",\"zerolinecolor\":\"white\",\"gridwidth\":2},\"yaxis\":{\"backgroundcolor\":\"#E5ECF6\",\"gridcolor\":\"white\",\"linecolor\":\"white\",\"showbackground\":true,\"ticks\":\"\",\"zerolinecolor\":\"white\",\"gridwidth\":2},\"zaxis\":{\"backgroundcolor\":\"#E5ECF6\",\"gridcolor\":\"white\",\"linecolor\":\"white\",\"showbackground\":true,\"ticks\":\"\",\"zerolinecolor\":\"white\",\"gridwidth\":2}},\"shapedefaults\":{\"line\":{\"color\":\"#2a3f5f\"}},\"annotationdefaults\":{\"arrowcolor\":\"#2a3f5f\",\"arrowhead\":0,\"arrowwidth\":1},\"geo\":{\"bgcolor\":\"white\",\"landcolor\":\"#E5ECF6\",\"subunitcolor\":\"white\",\"showland\":true,\"showlakes\":true,\"lakecolor\":\"white\"},\"title\":{\"x\":0.05},\"mapbox\":{\"style\":\"light\"}}},\"xaxis\":{\"anchor\":\"y\",\"domain\":[0.0,1.0],\"title\":{\"text\":\"Category\"}},\"yaxis\":{\"anchor\":\"x\",\"domain\":[0.0,1.0],\"title\":{\"text\":\"Value\"}},\"legend\":{\"tracegroupgap\":0},\"title\":{\"text\":\"Bar Plot Example\"},\"barmode\":\"relative\"},                        {\"responsive\": true}                    ).then(function(){\n",
              "                            \n",
              "var gd = document.getElementById('42414bd5-e1da-4f7e-b56c-79cddd73f251');\n",
              "var x = new MutationObserver(function (mutations, observer) {{\n",
              "        var display = window.getComputedStyle(gd).display;\n",
              "        if (!display || display === 'none') {{\n",
              "            console.log([gd, 'removed!']);\n",
              "            Plotly.purge(gd);\n",
              "            observer.disconnect();\n",
              "        }}\n",
              "}});\n",
              "\n",
              "// Listen for the removal of the full notebook cells\n",
              "var notebookContainer = gd.closest('#notebook-container');\n",
              "if (notebookContainer) {{\n",
              "    x.observe(notebookContainer, {childList: true});\n",
              "}}\n",
              "\n",
              "// Listen for the clearing of the current output cell\n",
              "var outputEl = gd.closest('.output');\n",
              "if (outputEl) {{\n",
              "    x.observe(outputEl, {childList: true});\n",
              "}}\n",
              "\n",
              "                        })                };                            </script>        </div>\n",
              "</body>\n",
              "</html>"
            ]
          },
          "metadata": {}
        }
      ]
    },
    {
      "cell_type": "markdown",
      "source": [
        "Q6- Create a DataFrame and add a new column based on an existing column."
      ],
      "metadata": {
        "id": "DSOBcc-oEkqj"
      }
    },
    {
      "cell_type": "code",
      "source": [
        "import pandas as pd\n",
        "\n",
        "data = {'A': [1, 2, 3, 4, 5],\n",
        "        'B': [5, 4, 3, 2, 1]}\n",
        "df = pd.DataFrame(data)\n",
        "\n",
        "df['C'] = df['A'] * 2\n",
        "\n",
        "print(df)\n"
      ],
      "metadata": {
        "colab": {
          "base_uri": "https://localhost:8080/"
        },
        "id": "CL3b4DBfEoub",
        "outputId": "feced3d2-1041-4c34-f25a-77c91c1115e5"
      },
      "execution_count": 6,
      "outputs": [
        {
          "output_type": "stream",
          "name": "stdout",
          "text": [
            "   A  B   C\n",
            "0  1  5   2\n",
            "1  2  4   4\n",
            "2  3  3   6\n",
            "3  4  2   8\n",
            "4  5  1  10\n"
          ]
        }
      ]
    },
    {
      "cell_type": "markdown",
      "source": [
        "Q7- Write a program to perform element-wise multiplication of two NumPy arrays."
      ],
      "metadata": {
        "id": "_L3ddo6zEy3C"
      }
    },
    {
      "cell_type": "code",
      "source": [
        "import numpy as np\n",
        "\n",
        "array1 = np.array([1, 2, 3, 4, 5])\n",
        "array2 = np.array([5, 4, 3, 2, 1])\n",
        "\n",
        "result = array1 * array2\n",
        "\n",
        "print(result)\n"
      ],
      "metadata": {
        "colab": {
          "base_uri": "https://localhost:8080/"
        },
        "id": "iG_jL6amE5eG",
        "outputId": "0a577bdf-61b8-4399-8d35-66c58dcccc61"
      },
      "execution_count": 7,
      "outputs": [
        {
          "output_type": "stream",
          "name": "stdout",
          "text": [
            "[5 8 9 8 5]\n"
          ]
        }
      ]
    },
    {
      "cell_type": "markdown",
      "source": [
        "Q8- Create a line plot with multiple lines using Matplotlib."
      ],
      "metadata": {
        "id": "4NDezupEFCzq"
      }
    },
    {
      "cell_type": "code",
      "source": [
        "import matplotlib.pyplot as plt\n",
        "\n",
        "x = [0, 1, 2, 3, 4, 5]\n",
        "y1 = [0, 1, 4, 9, 16, 25]\n",
        "y2 = [0, -1, -4, -9, -16, -25]\n",
        "\n",
        "plt.plot(x, y1, label='y = x^2', color='b', marker='o')\n",
        "plt.plot(x, y2, label='y = -x^2', color='r', marker='x')\n",
        "\n",
        "plt.title('Multiple Line Plot Example')\n",
        "plt.xlabel('X-axis')\n",
        "plt.ylabel('Y-axis')\n",
        "\n",
        "plt.legend()\n",
        "\n",
        "plt.show()\n"
      ],
      "metadata": {
        "colab": {
          "base_uri": "https://localhost:8080/",
          "height": 472
        },
        "id": "HW6buLAsFIr5",
        "outputId": "28d3be2a-4a7f-4662-c404-96dd8aa21029"
      },
      "execution_count": 8,
      "outputs": [
        {
          "output_type": "display_data",
          "data": {
            "text/plain": [
              "<Figure size 640x480 with 1 Axes>"
            ],
            "image/png": "[encoded data removed]"
          },
          "metadata": {}
        }
      ]
    },
    {
      "cell_type": "markdown",
      "source": [
        "Q9- Generate a Pandas DataFrame and filter rows where a column value is greater than a threshold."
      ],
      "metadata": {
        "id": "OZd2f2MLFXoV"
      }
    },
    {
      "cell_type": "code",
      "source": [
        "import pandas as pd\n",
        "\n",
        "data = {'A': [10, 20, 30, 40, 50],\n",
        "        'B': [5, 4, 3, 2, 1]}\n",
        "df = pd.DataFrame(data)\n",
        "\n",
        "threshold = 25\n",
        "\n",
        "filtered_df = df[df['A'] > threshold]\n",
        "\n",
        "print(filtered_df)\n"
      ],
      "metadata": {
        "colab": {
          "base_uri": "https://localhost:8080/"
        },
        "id": "95N8IxP-Fclh",
        "outputId": "59424311-1b19-455e-eddc-cc544adc3701"
      },
      "execution_count": 9,
      "outputs": [
        {
          "output_type": "stream",
          "name": "stdout",
          "text": [
            "    A  B\n",
            "2  30  3\n",
            "3  40  2\n",
            "4  50  1\n"
          ]
        }
      ]
    },
    {
      "cell_type": "markdown",
      "source": [
        "Q10- Create a histogram using Seaborn to visualize a distribution."
      ],
      "metadata": {
        "id": "xiu8VqoZFmGb"
      }
    },
    {
      "cell_type": "code",
      "source": [
        "import seaborn as sns\n",
        "import matplotlib.pyplot as plt\n",
        "\n",
        "data = [1, 2, 2, 3, 4, 5, 6, 6, 7, 7, 7, 8, 8, 9, 9, 10]\n",
        "\n",
        "sns.histplot(data, kde=True, bins=10, color='skyblue')\n",
        "\n",
        "plt.title('Histogram with Distribution')\n",
        "plt.xlabel('Value')\n",
        "plt.ylabel('Frequency')\n",
        "\n",
        "plt.show()\n"
      ],
      "metadata": {
        "colab": {
          "base_uri": "https://localhost:8080/",
          "height": 472
        },
        "id": "1UbGxIKnFq77",
        "outputId": "ecfe38c1-d47d-47f7-9b57-86def9b47326"
      },
      "execution_count": 10,
      "outputs": [
        {
          "output_type": "display_data",
          "data": {
            "text/plain": [
              "<Figure size 640x480 with 1 Axes>"
            ],
            "image/png": "[encoded data removed]"
          },
          "metadata": {}
        }
      ]
    },
    {
      "cell_type": "markdown",
      "source": [
        "Q11- Perform matrix multiplication using NumPy."
      ],
      "metadata": {
        "id": "fjOIutOVF4UV"
      }
    },
    {
      "cell_type": "code",
      "source": [
        "import numpy as np\n",
        "\n",
        "matrix1 = np.array([[1, 2], [3, 4]])\n",
        "matrix2 = np.array([[5, 6], [7, 8]])\n",
        "\n",
        "result1 = np.dot(matrix1, matrix2)\n",
        "\n",
        "result2 = matrix1 @ matrix2\n",
        "\n",
        "print(\"Matrix multiplication using np.dot():\")\n",
        "print(result1)\n",
        "\n",
        "print(\"\\nMatrix multiplication using @ operator:\")\n",
        "print(result2)\n"
      ],
      "metadata": {
        "colab": {
          "base_uri": "https://localhost:8080/"
        },
        "id": "20Yv2JLlF9x9",
        "outputId": "d213f04e-db54-4f5e-a5ca-c078c32ef47d"
      },
      "execution_count": 11,
      "outputs": [
        {
          "output_type": "stream",
          "name": "stdout",
          "text": [
            "Matrix multiplication using np.dot():\n",
            "[[19 22]\n",
            " [43 50]]\n",
            "\n",
            "Matrix multiplication using @ operator:\n",
            "[[19 22]\n",
            " [43 50]]\n"
          ]
        }
      ]
    },
    {
      "cell_type": "markdown",
      "source": [
        "Q12- Use Pandas to load a CSV file and display its first 5 rows."
      ],
      "metadata": {
        "id": "fjsimWFFGJGJ"
      }
    },
    {
      "cell_type": "code",
      "source": [
        "import pandas as pd\n",
        "\n",
        "df = pd.read_csv('file_path.csv')\n",
        "\n",
        "print(df.head())\n"
      ],
      "metadata": {
        "id": "ONapZziGGOKx"
      },
      "execution_count": null,
      "outputs": []
    },
    {
      "cell_type": "markdown",
      "source": [
        "Q13- Create a 3D scatter plot using Plotly."
      ],
      "metadata": {
        "id": "Xgai5i1oGbns"
      }
    },
    {
      "cell_type": "code",
      "source": [
        "import plotly.express as px\n",
        "import pandas as pd\n",
        "\n",
        "data = {\n",
        "    'x': [1, 2, 3, 4, 5],\n",
        "    'y': [10, 11, 12, 13, 14],\n",
        "    'z': [100, 200, 300, 400, 500]\n",
        "}\n",
        "\n",
        "df = pd.DataFrame(data)\n",
        "\n",
        "fig = px.scatter_3d(df, x='x', y='y', z='z', title='3D Scatter Plot Example')\n",
        "\n",
        "fig.show()\n"
      ],
      "metadata": {
        "colab": {
          "base_uri": "https://localhost:8080/",
          "height": 542
        },
        "id": "wGXitCWKGhmH",
        "outputId": "2bb0f79b-b627-4483-f2b2-6e401801facb"
      },
      "execution_count": 13,
      "outputs": [
        {
          "output_type": "display_data",
          "data": {
            "text/html": [
              "<html>\n",
              "<head><meta charset=\"utf-8\" /></head>\n",
              "<body>\n",
              "    <div>            <script src=\"https://cdnjs.cloudflare.com/ajax/libs/mathjax/2.7.5/MathJax.js?config=TeX-AMS-MML_SVG\"></script><script type=\"text/javascript\">if (window.MathJax && window.MathJax.Hub && window.MathJax.Hub.Config) {window.MathJax.Hub.Config({SVG: {font: \"STIX-Web\"}});}</script>                <script type=\"text/javascript\">window.PlotlyConfig = {MathJaxConfig: 'local'};</script>\n",
              "        <script charset=\"utf-8\" src=\"https://cdn.plot.ly/plotly-2.35.2.min.js\"></script>                <div id=\"c4714613-8ffd-47ef-9fdd-4fd194f365b1\" class=\"plotly-graph-div\" style=\"height:525px; width:100%;\"></div>            <script type=\"text/javascript\">                                    window.PLOTLYENV=window.PLOTLYENV || {};                                    if (document.getElementById(\"c4714613-8ffd-47ef-9fdd-4fd194f365b1\")) {                    Plotly.newPlot(                        \"c4714613-8ffd-47ef-9fdd-4fd194f365b1\",                        [{\"hovertemplate\":\"x=%{x}\\u003cbr\\u003ey=%{y}\\u003cbr\\u003ez=%{z}\\u003cextra\\u003e\\u003c\\u002fextra\\u003e\",\"legendgroup\":\"\",\"marker\":{\"color\":\"#636efa\",\"symbol\":\"circle\"},\"mode\":\"markers\",\"name\":\"\",\"scene\":\"scene\",\"showlegend\":false,\"x\":[1,2,3,4,5],\"y\":[10,11,12,13,14],\"z\":[100,200,300,400,500],\"type\":\"scatter3d\"}],                        {\"template\":{\"data\":{\"histogram2dcontour\":[{\"type\":\"histogram2dcontour\",\"colorbar\":{\"outlinewidth\":0,\"ticks\":\"\"},\"colorscale\":[[0.0,\"#0d0887\"],[0.1111111111111111,\"#46039f\"],[0.2222222222222222,\"#7201a8\"],[0.3333333333333333,\"#9c179e\"],[0.4444444444444444,\"#bd3786\"],[0.5555555555555556,\"#d8576b\"],[0.6666666666666666,\"#ed7953\"],[0.7777777777777778,\"#fb9f3a\"],[0.8888888888888888,\"#fdca26\"],[1.0,\"#f0f921\"]]}],\"choropleth\":[{\"type\":\"choropleth\",\"colorbar\":{\"outlinewidth\":0,\"ticks\":\"\"}}],\"histogram2d\":[{\"type\":\"histogram2d\",\"colorbar\":{\"outlinewidth\":0,\"ticks\":\"\"},\"colorscale\":[[0.0,\"#0d0887\"],[0.1111111111111111,\"#46039f\"],[0.2222222222222222,\"#7201a8\"],[0.3333333333333333,\"#9c179e\"],[0.4444444444444444,\"#bd3786\"],[0.5555555555555556,\"#d8576b\"],[0.6666666666666666,\"#ed7953\"],[0.7777777777777778,\"#fb9f3a\"],[0.8888888888888888,\"#fdca26\"],[1.0,\"#f0f921\"]]}],\"heatmap\":[{\"type\":\"heatmap\",\"colorbar\":{\"outlinewidth\":0,\"ticks\":\"\"},\"colorscale\":[[0.0,\"#0d0887\"],[0.1111111111111111,\"#46039f\"],[0.2222222222222222,\"#7201a8\"],[0.3333333333333333,\"#9c179e\"],[0.4444444444444444,\"#bd3786\"],[0.5555555555555556,\"#d8576b\"],[0.6666666666666666,\"#ed7953\"],[0.7777777777777778,\"#fb9f3a\"],[0.8888888888888888,\"#fdca26\"],[1.0,\"#f0f921\"]]}],\"heatmapgl\":[{\"type\":\"heatmapgl\",\"colorbar\":{\"outlinewidth\":0,\"ticks\":\"\"},\"colorscale\":[[0.0,\"#0d0887\"],[0.1111111111111111,\"#46039f\"],[0.2222222222222222,\"#7201a8\"],[0.3333333333333333,\"#9c179e\"],[0.4444444444444444,\"#bd3786\"],[0.5555555555555556,\"#d8576b\"],[0.6666666666666666,\"#ed7953\"],[0.7777777777777778,\"#fb9f3a\"],[0.8888888888888888,\"#fdca26\"],[1.0,\"#f0f921\"]]}],\"contourcarpet\":[{\"type\":\"contourcarpet\",\"colorbar\":{\"outlinewidth\":0,\"ticks\":\"\"}}],\"contour\":[{\"type\":\"contour\",\"colorbar\":{\"outlinewidth\":0,\"ticks\":\"\"},\"colorscale\":[[0.0,\"#0d0887\"],[0.1111111111111111,\"#46039f\"],[0.2222222222222222,\"#7201a8\"],[0.3333333333333333,\"#9c179e\"],[0.4444444444444444,\"#bd3786\"],[0.5555555555555556,\"#d8576b\"],[0.6666666666666666,\"#ed7953\"],[0.7777777777777778,\"#fb9f3a\"],[0.8888888888888888,\"#fdca26\"],[1.0,\"#f0f921\"]]}],\"surface\":[{\"type\":\"surface\",\"colorbar\":{\"outlinewidth\":0,\"ticks\":\"\"},\"colorscale\":[[0.0,\"#0d0887\"],[0.1111111111111111,\"#46039f\"],[0.2222222222222222,\"#7201a8\"],[0.3333333333333333,\"#9c179e\"],[0.4444444444444444,\"#bd3786\"],[0.5555555555555556,\"#d8576b\"],[0.6666666666666666,\"#ed7953\"],[0.7777777777777778,\"#fb9f3a\"],[0.8888888888888888,\"#fdca26\"],[1.0,\"#f0f921\"]]}],\"mesh3d\":[{\"type\":\"mesh3d\",\"colorbar\":{\"outlinewidth\":0,\"ticks\":\"\"}}],\"scatter\":[{\"fillpattern\":{\"fillmode\":\"overlay\",\"size\":10,\"solidity\":0.2},\"type\":\"scatter\"}],\"parcoords\":[{\"type\":\"parcoords\",\"line\":{\"colorbar\":{\"outlinewidth\":0,\"ticks\":\"\"}}}],\"scatterpolargl\":[{\"type\":\"scatterpolargl\",\"marker\":{\"colorbar\":{\"outlinewidth\":0,\"ticks\":\"\"}}}],\"bar\":[{\"error_x\":{\"color\":\"#2a3f5f\"},\"error_y\":{\"color\":\"#2a3f5f\"},\"marker\":{\"line\":{\"color\":\"#E5ECF6\",\"width\":0.5},\"pattern\":{\"fillmode\":\"overlay\",\"size\":10,\"solidity\":0.2}},\"type\":\"bar\"}],\"scattergeo\":[{\"type\":\"scattergeo\",\"marker\":{\"colorbar\":{\"outlinewidth\":0,\"ticks\":\"\"}}}],\"scatterpolar\":[{\"type\":\"scatterpolar\",\"marker\":{\"colorbar\":{\"outlinewidth\":0,\"ticks\":\"\"}}}],\"histogram\":[{\"marker\":{\"pattern\":{\"fillmode\":\"overlay\",\"size\":10,\"solidity\":0.2}},\"type\":\"histogram\"}],\"scattergl\":[{\"type\":\"scattergl\",\"marker\":{\"colorbar\":{\"outlinewidth\":0,\"ticks\":\"\"}}}],\"scatter3d\":[{\"type\":\"scatter3d\",\"line\":{\"colorbar\":{\"outlinewidth\":0,\"ticks\":\"\"}},\"marker\":{\"colorbar\":{\"outlinewidth\":0,\"ticks\":\"\"}}}],\"scattermapbox\":[{\"type\":\"scattermapbox\",\"marker\":{\"colorbar\":{\"outlinewidth\":0,\"ticks\":\"\"}}}],\"scatterternary\":[{\"type\":\"scatterternary\",\"marker\":{\"colorbar\":{\"outlinewidth\":0,\"ticks\":\"\"}}}],\"scattercarpet\":[{\"type\":\"scattercarpet\",\"marker\":{\"colorbar\":{\"outlinewidth\":0,\"ticks\":\"\"}}}],\"carpet\":[{\"aaxis\":{\"endlinecolor\":\"#2a3f5f\",\"gridcolor\":\"white\",\"linecolor\":\"white\",\"minorgridcolor\":\"white\",\"startlinecolor\":\"#2a3f5f\"},\"baxis\":{\"endlinecolor\":\"#2a3f5f\",\"gridcolor\":\"white\",\"linecolor\":\"white\",\"minorgridcolor\":\"white\",\"startlinecolor\":\"#2a3f5f\"},\"type\":\"carpet\"}],\"table\":[{\"cells\":{\"fill\":{\"color\":\"#EBF0F8\"},\"line\":{\"color\":\"white\"}},\"header\":{\"fill\":{\"color\":\"#C8D4E3\"},\"line\":{\"color\":\"white\"}},\"type\":\"table\"}],\"barpolar\":[{\"marker\":{\"line\":{\"color\":\"#E5ECF6\",\"width\":0.5},\"pattern\":{\"fillmode\":\"overlay\",\"size\":10,\"solidity\":0.2}},\"type\":\"barpolar\"}],\"pie\":[{\"automargin\":true,\"type\":\"pie\"}]},\"layout\":{\"autotypenumbers\":\"strict\",\"colorway\":[\"#636efa\",\"#EF553B\",\"#00cc96\",\"#ab63fa\",\"#FFA15A\",\"#19d3f3\",\"#FF6692\",\"#B6E880\",\"#FF97FF\",\"#FECB52\"],\"font\":{\"color\":\"#2a3f5f\"},\"hovermode\":\"closest\",\"hoverlabel\":{\"align\":\"left\"},\"paper_bgcolor\":\"white\",\"plot_bgcolor\":\"#E5ECF6\",\"polar\":{\"bgcolor\":\"#E5ECF6\",\"angularaxis\":{\"gridcolor\":\"white\",\"linecolor\":\"white\",\"ticks\":\"\"},\"radialaxis\":{\"gridcolor\":\"white\",\"linecolor\":\"white\",\"ticks\":\"\"}},\"ternary\":{\"bgcolor\":\"#E5ECF6\",\"aaxis\":{\"gridcolor\":\"white\",\"linecolor\":\"white\",\"ticks\":\"\"},\"baxis\":{\"gridcolor\":\"white\",\"linecolor\":\"white\",\"ticks\":\"\"},\"caxis\":{\"gridcolor\":\"white\",\"linecolor\":\"white\",\"ticks\":\"\"}},\"coloraxis\":{\"colorbar\":{\"outlinewidth\":0,\"ticks\":\"\"}},\"colorscale\":{\"sequential\":[[0.0,\"#0d0887\"],[0.1111111111111111,\"#46039f\"],[0.2222222222222222,\"#7201a8\"],[0.3333333333333333,\"#9c179e\"],[0.4444444444444444,\"#bd3786\"],[0.5555555555555556,\"#d8576b\"],[0.6666666666666666,\"#ed7953\"],[0.7777777777777778,\"#fb9f3a\"],[0.8888888888888888,\"#fdca26\"],[1.0,\"#f0f921\"]],\"sequentialminus\":[[0.0,\"#0d0887\"],[0.1111111111111111,\"#46039f\"],[0.2222222222222222,\"#7201a8\"],[0.3333333333333333,\"#9c179e\"],[0.4444444444444444,\"#bd3786\"],[0.5555555555555556,\"#d8576b\"],[0.6666666666666666,\"#ed7953\"],[0.7777777777777778,\"#fb9f3a\"],[0.8888888888888888,\"#fdca26\"],[1.0,\"#f0f921\"]],\"diverging\":[[0,\"#8e0152\"],[0.1,\"#c51b7d\"],[0.2,\"#de77ae\"],[0.3,\"#f1b6da\"],[0.4,\"#fde0ef\"],[0.5,\"#f7f7f7\"],[0.6,\"#e6f5d0\"],[0.7,\"#b8e186\"],[0.8,\"#7fbc41\"],[0.9,\"#4d9221\"],[1,\"#276419\"]]},\"xaxis\":{\"gridcolor\":\"white\",\"linecolor\":\"white\",\"ticks\":\"\",\"title\":{\"standoff\":15},\"zerolinecolor\":\"white\",\"automargin\":true,\"zerolinewidth\":2},\"yaxis\":{\"gridcolor\":\"white\",\"linecolor\":\"white\",\"ticks\":\"\",\"title\":{\"standoff\":15},\"zerolinecolor\":\"white\",\"automargin\":true,\"zerolinewidth\":2},\"scene\":{\"xaxis\":{\"backgroundcolor\":\"#E5ECF6\",\"gridcolor\":\"white\",\"linecolor\":\"white\",\"showbackground\":true,\"ticks\":\"\",\"zerolinecolor\":\"white\",\"gridwidth\":2},\"yaxis\":{\"backgroundcolor\":\"#E5ECF6\",\"gridcolor\":\"white\",\"linecolor\":\"white\",\"showbackground\":true,\"ticks\":\"\",\"zerolinecolor\":\"white\",\"gridwidth\":2},\"zaxis\":{\"backgroundcolor\":\"#E5ECF6\",\"gridcolor\":\"white\",\"linecolor\":\"white\",\"showbackground\":true,\"ticks\":\"\",\"zerolinecolor\":\"white\",\"gridwidth\":2}},\"shapedefaults\":{\"line\":{\"color\":\"#2a3f5f\"}},\"annotationdefaults\":{\"arrowcolor\":\"#2a3f5f\",\"arrowhead\":0,\"arrowwidth\":1},\"geo\":{\"bgcolor\":\"white\",\"landcolor\":\"#E5ECF6\",\"subunitcolor\":\"white\",\"showland\":true,\"showlakes\":true,\"lakecolor\":\"white\"},\"title\":{\"x\":0.05},\"mapbox\":{\"style\":\"light\"}}},\"scene\":{\"domain\":{\"x\":[0.0,1.0],\"y\":[0.0,1.0]},\"xaxis\":{\"title\":{\"text\":\"x\"}},\"yaxis\":{\"title\":{\"text\":\"y\"}},\"zaxis\":{\"title\":{\"text\":\"z\"}}},\"legend\":{\"tracegroupgap\":0},\"title\":{\"text\":\"3D Scatter Plot Example\"}},                        {\"responsive\": true}                    ).then(function(){\n",
              "                            \n",
              "var gd = document.getElementById('c4714613-8ffd-47ef-9fdd-4fd194f365b1');\n",
              "var x = new MutationObserver(function (mutations, observer) {{\n",
              "        var display = window.getComputedStyle(gd).display;\n",
              "        if (!display || display === 'none') {{\n",
              "            console.log([gd, 'removed!']);\n",
              "            Plotly.purge(gd);\n",
              "            observer.disconnect();\n",
              "        }}\n",
              "}});\n",
              "\n",
              "// Listen for the removal of the full notebook cells\n",
              "var notebookContainer = gd.closest('#notebook-container');\n",
              "if (notebookContainer) {{\n",
              "    x.observe(notebookContainer, {childList: true});\n",
              "}}\n",
              "\n",
              "// Listen for the clearing of the current output cell\n",
              "var outputEl = gd.closest('.output');\n",
              "if (outputEl) {{\n",
              "    x.observe(outputEl, {childList: true});\n",
              "}}\n",
              "\n",
              "                        })                };                            </script>        </div>\n",
              "</body>\n",
              "</html>"
            ]
          },
          "metadata": {}
        }
      ]
    }
  ]
}